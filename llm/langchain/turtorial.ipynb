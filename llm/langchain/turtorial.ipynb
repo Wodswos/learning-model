{
 "cells": [
  {
   "cell_type": "code",
   "execution_count": 1,
   "metadata": {},
   "outputs": [],
   "source": [
    "import getpass\n",
    "import os\n",
    "\n",
    "# 直接设置环境变量，或者用 getpass.getpass() 设置\n",
    "# os.environ['OPENAI_API_KEY'] = getpass.getpass()"
   ]
  },
  {
   "cell_type": "markdown",
   "metadata": {},
   "source": [
    "# LLM Chain"
   ]
  },
  {
   "cell_type": "code",
   "execution_count": 2,
   "metadata": {},
   "outputs": [],
   "source": [
    "from langchain_openai import ChatOpenAI\n",
    "\n",
    "llm = ChatOpenAI(base_url=\"https://api.deepseek.com\", model=\"deepseek-chat\")"
   ]
  },
  {
   "cell_type": "code",
   "execution_count": 3,
   "metadata": {},
   "outputs": [
    {
     "data": {
      "text/plain": [
       "\" LangSmith is a tool designed to help with language understanding and generation tasks. While it's not a testing tool per se, it can be used to assist in testing by providing insights into language models' performance. Here's how LangSmith can help with testing in the context of language models:\\n\\n1. **Error Analysis**: LangSmith can help identify common errors made by language models. By analyzing the outputs of the model, testers can understand where the model is failing and why, which can guide the development of test cases to specifically target these weaknesses.\\n\\n2. **Performance Benchmarking**: LangSmith can be used to benchmark the performance of different language models or different versions of the same model. This can help in testing to ensure that new versions of the model are not regressing in terms of performance.\\n\\n3. **Test Case Generation**: LangSmith can assist in generating test cases for language models. By providing a range of inputs and observing the outputs, testers can create a suite of test cases that cover a wide variety of scenarios.\\n\\n4. **Interpretability**: LangSmith can provide insights into how language models make decisions, which can be useful for testing. Understanding the model's reasoning can help in designing tests that probe the model's understanding of context, ambiguity, and other linguistic nuances.\\n\\n5. **Quality Assurance**: LangSmith can help in ensuring that the language model's outputs are of high quality. By setting up quality thresholds for things like grammar, coherence, and factual accuracy, testers can use LangSmith to assess whether the model's outputs meet these standards.\\n\\n6. **Integration Testing**: If the language model is part of a larger system, LangSmith can help in testing the integration of the model with other components. For example, it can be used to ensure that the model's responses are correctly processed by downstream systems.\\n\\n7. **User Simulation**: LangSmith can simulate user inputs to test how the language model responds in a real-world scenario. This can help in testing the model's robustness and its ability to handle diverse user interactions.\\n\\n8. **Continuous Testing**: LangSmith can be integrated into a continuous testing pipeline, where the language model is continuously tested against a suite of test cases to catch any regressions or issues early in the development cycle.\\n\\nRemember that LangSmith is a tool for language understanding and generation, and its primary function is not testing. However, by leveraging its capabilities, you can enhance the testing process for language models and related applications. Always ensure that you are using appropriate testing methodologies and tools alongside LangSmith to achieve comprehensive testing coverage.\""
      ]
     },
     "execution_count": 3,
     "metadata": {},
     "output_type": "execute_result"
    }
   ],
   "source": [
    "llm.invoke(\"how can langsmith help with testing?\").content"
   ]
  },
  {
   "cell_type": "code",
   "execution_count": 4,
   "metadata": {},
   "outputs": [],
   "source": [
    "from langchain_core.prompts import ChatPromptTemplate\n",
    "prompt = ChatPromptTemplate.from_messages([\n",
    "    (\"system\", \"You are a world class technical documentation writer.\"),\n",
    "    (\"user\", \"{input}\")\n",
    "])"
   ]
  },
  {
   "cell_type": "code",
   "execution_count": 5,
   "metadata": {},
   "outputs": [
    {
     "data": {
      "text/plain": [
       "ChatPromptTemplate(input_variables=['input'], messages=[SystemMessagePromptTemplate(prompt=PromptTemplate(input_variables=[], template='You are a world class technical documentation writer.')), HumanMessagePromptTemplate(prompt=PromptTemplate(input_variables=['input'], template='{input}'))])"
      ]
     },
     "execution_count": 5,
     "metadata": {},
     "output_type": "execute_result"
    }
   ],
   "source": [
    "prompt"
   ]
  },
  {
   "cell_type": "code",
   "execution_count": 6,
   "metadata": {},
   "outputs": [
    {
     "data": {
      "text/plain": [
       "ChatPromptTemplate(input_variables=['input'], messages=[SystemMessagePromptTemplate(prompt=PromptTemplate(input_variables=[], template='You are a world class technical documentation writer.')), HumanMessagePromptTemplate(prompt=PromptTemplate(input_variables=['input'], template='{input}'))])\n",
       "| ChatOpenAI(client=<openai.resources.chat.completions.Completions object at 0x7f3140323970>, async_client=<openai.resources.chat.completions.AsyncCompletions object at 0x7f3140356b60>, model_name='deepseek-chat', openai_api_key=SecretStr('**********'), openai_api_base='https://api.deepseek.com', openai_proxy='')"
      ]
     },
     "execution_count": 6,
     "metadata": {},
     "output_type": "execute_result"
    }
   ],
   "source": [
    "chain = prompt | llm\n",
    "chain"
   ]
  },
  {
   "cell_type": "code",
   "execution_count": 9,
   "metadata": {},
   "outputs": [
    {
     "data": {
      "text/plain": [
       "' `pytest` 是一个非常流行的 Python 测试框架，它可以帮助你编写小型到大型测试。以下是一些基本的使用方法：\\n\\n1. **安装 pytest**：\\n   如果你还没有安装 pytest，可以通过 pip 安装：\\n   ```bash\\n   pip install pytest\\n   ```\\n\\n2. **编写测试用例**：\\n   测试用例通常放在 `test_*.py` 或 `*_test.py` 文件中。一个简单的测试函数如下：\\n   ```python\\n   def test_addition():\\n       assert 1 + 1 == 2\\n   ```\\n\\n3. **运行测试**：\\n   在命令行中，进入包含测试文件的目录，然后运行：\\n   ```bash\\n   pytest\\n   ```\\n   `pytest` 会自动查找并运行所有符合命名规则的测试函数。\\n\\n4. **使用参数**：\\n   `pytest` 支持很多命令行参数，例如：\\n   - `-v` 或 `--verbose`：增加输出详细程度。\\n   - `-k EXPRESSION`：只运行匹配 `EXPRESSION` 的测试。\\n   - `-x` 或 `--exitfirst`：当遇到第一个失败或错误时停止。\\n   - `--lf` 或 `--last-failed`：重新运行上次运行失败的测试。\\n\\n5. **编写测试夹具**（Fixtures）：\\n   夹具是用来为测试提供资源的函数，例如数据库连接、文件系统等。定义夹具的示例：\\n   ```python\\n   import pytest\\n\\n   @pytest.fixture\\n   def example_fixture():\\n       # 设置夹具\\n       return \"example\"\\n\\n   def test_with_fixture(example_fixture):\\n       assert example_fixture == \"example\"\\n   ```\\n\\n6. **使用断言**：\\n   `pytest` 使用 Python 的 `assert` 语句进行断言，并且会提供详细的失败信息。\\n\\n7. **跳过测试**：\\n   你可以使用 `pytest.mark.skip` 或 `pytest.mark.skipif` 来跳过某些测试。\\n\\n8. **参数化测试**：\\n   使用 `pytest.mark.parametrize` 可以参数化测试函数，使其接受不同的输入并运行多次。\\n\\n9. **使用插件**：\\n   `pytest` 有大量的插件可以扩展其功能，例如 `pytest-cov` 用于代码覆盖率，`pytest-xdist` 用于分布式测试等。\\n\\n10. **查看帮助**：\\n    运行 `pytest --help` 可以查看所有可用的命令行选项和插件。\\n\\n以上是 `pytest` 的一些基本用法，更高级的用法和详细信息可以参考官方文档：[https://docs.pytest.org/](https://docs.pytest.org/)。'"
      ]
     },
     "execution_count": 9,
     "metadata": {},
     "output_type": "execute_result"
    }
   ],
   "source": [
    "message = chain.invoke({\"input\": \"Pytest 怎么使用?\"})\n",
    "message.content"
   ]
  },
  {
   "cell_type": "code",
   "execution_count": 10,
   "metadata": {},
   "outputs": [
    {
     "name": "stdout",
     "output_type": "stream",
     "text": [
      " `pytest` 是一个非常流行的 Python 测试框架，它可以帮助你编写小型到大型测试。以下是一些基本的使用方法：\n",
      "\n",
      "1. **安装 pytest**：\n",
      "   如果你还没有安装 pytest，可以通过 pip 安装：\n",
      "   ```bash\n",
      "   pip install pytest\n",
      "   ```\n",
      "\n",
      "2. **编写测试用例**：\n",
      "   测试用例通常放在 `test_*.py` 或 `*_test.py` 文件中。一个简单的测试函数如下：\n",
      "   ```python\n",
      "   def test_addition():\n",
      "       assert 1 + 1 == 2\n",
      "   ```\n",
      "\n",
      "3. **运行测试**：\n",
      "   在命令行中，进入包含测试文件的目录，然后运行：\n",
      "   ```bash\n",
      "   pytest\n",
      "   ```\n",
      "   `pytest` 会自动查找并运行所有符合命名规则的测试函数。\n",
      "\n",
      "4. **使用参数**：\n",
      "   `pytest` 支持很多命令行参数，例如：\n",
      "   - `-v` 或 `--verbose`：增加输出详细程度。\n",
      "   - `-k EXPRESSION`：只运行匹配 `EXPRESSION` 的测试。\n",
      "   - `-x` 或 `--exitfirst`：当遇到第一个失败或错误时停止。\n",
      "   - `--lf` 或 `--last-failed`：重新运行上次运行失败的测试。\n",
      "\n",
      "5. **编写测试夹具**（Fixtures）：\n",
      "   夹具是用来为测试提供资源的函数，例如数据库连接、文件系统等。定义夹具的示例：\n",
      "   ```python\n",
      "   import pytest\n",
      "\n",
      "   @pytest.fixture\n",
      "   def example_fixture():\n",
      "       # 设置夹具\n",
      "       return \"example\"\n",
      "\n",
      "   def test_with_fixture(example_fixture):\n",
      "       assert example_fixture == \"example\"\n",
      "   ```\n",
      "\n",
      "6. **使用断言**：\n",
      "   `pytest` 使用 Python 的 `assert` 语句进行断言，并且会提供详细的失败信息。\n",
      "\n",
      "7. **跳过测试**：\n",
      "   你可以使用 `pytest.mark.skip` 或 `pytest.mark.skipif` 来跳过某些测试。\n",
      "\n",
      "8. **参数化测试**：\n",
      "   使用 `pytest.mark.parametrize` 可以参数化测试函数，使其接受不同的输入并运行多次。\n",
      "\n",
      "9. **使用插件**：\n",
      "   `pytest` 有大量的插件可以扩展其功能，例如 `pytest-cov` 用于代码覆盖率，`pytest-xdist` 用于分布式测试等。\n",
      "\n",
      "10. **查看帮助**：\n",
      "    运行 `pytest --help` 可以查看所有可用的命令行选项和插件。\n",
      "\n",
      "以上是 `pytest` 的一些基本用法，更高级的用法和详细信息可以参考官方文档：[https://docs.pytest.org/](https://docs.pytest.org/)。\n"
     ]
    }
   ],
   "source": [
    "print(message.content)"
   ]
  },
  {
   "cell_type": "code",
   "execution_count": 11,
   "metadata": {},
   "outputs": [],
   "source": [
    "from langchain_core.output_parsers import StrOutputParser\n",
    "\n",
    "output_parser = StrOutputParser()\n",
    "\n",
    "chain = prompt | llm | output_parser"
   ]
  },
  {
   "cell_type": "code",
   "execution_count": 13,
   "metadata": {},
   "outputs": [
    {
     "name": "stdout",
     "output_type": "stream",
     "text": [
      " `pytest` 是一个非常强大且灵活的 Python 测试框架，它可以帮助你编写简单和可扩展的测试。`pytest` 可以用来测试简单的 Python 代码，也可以用来测试复杂的项目。以下是一些基本的 `pytest` 使用方法：\n",
      "\n",
      "### 安装 `pytest`\n",
      "\n",
      "首先，你需要安装 `pytest`。如果你已经安装了 `pip`（Python 的包管理工具），可以通过以下命令安装 `pytest`：\n",
      "\n",
      "```bash\n",
      "pip install pytest\n",
      "```\n",
      "\n",
      "### 编写测试用例\n",
      "\n",
      "`pytest` 会自动找到并运行以 `test_` 开头或以 `_test` 结尾的函数。测试函数通常放在 `test_` 开头的文件中。例如，你可以创建一个名为 `test_example.py` 的文件，并编写以下代码：\n",
      "\n",
      "```python\n",
      "def add(a, b):\n",
      "    return a + b\n",
      "\n",
      "def test_add():\n",
      "    assert add(2, 3) == 5\n",
      "    assert add('a', 'b') == 'ab'\n",
      "```\n",
      "\n",
      "### 运行测试\n",
      "\n",
      "要运行测试，只需在命令行中导航到包含测试文件的目录，并运行 `pytest` 命令：\n",
      "\n",
      "```bash\n",
      "pytest\n",
      "```\n",
      "\n",
      "`pytest` 会自动发现并运行所有测试函数。如果所有测试都通过，你将看到类似以下的输出：\n",
      "\n",
      "```\n",
      "============================= test session starts ==============================\n",
      "platform linux -- Python 3.x.y, pytest-6.x.y, py-1.x.y, pluggy-0.x.y\n",
      "rootdir: /path/to/your/project\n",
      "collected 1 item\n",
      "\n",
      "test_example.py .                                                         [100%]\n",
      "\n",
      "============================== 1 passed in 0.12s ===============================\n",
      "```\n",
      "\n",
      "如果测试失败，`pytest` 会提供详细的错误信息，帮助你定位问题。\n",
      "\n",
      "### 高级用法\n",
      "\n",
      "`pytest` 还支持许多高级功能，例如：\n",
      "\n",
      "- **参数化测试**：使用 `@pytest.mark.parametrize` 装饰器来运行同一个测试函数多次，每次使用不同的参数。\n",
      "- **夹具（Fixtures）**：用于设置测试环境，可以为多个测试提供共享的资源。\n",
      "- **标记（Markers）**：用于标记测试，可以用来选择性地运行某些测试。\n",
      "- **插件**：`pytest` 有大量的插件，可以扩展其功能。\n",
      "\n",
      "要了解更多关于 `pytest` 的信息，可以查看官方文档：[https://docs.pytest.org/en/stable/](https://docs.pytest.org/en/stable/)。\n"
     ]
    }
   ],
   "source": [
    "result = chain.invoke({\"input\": \"Pytest 怎么使用?\"})\n",
    "\n",
    "# 直接输出的话，换行符是 \\n 而不是真的换行，不好看，所以还是 print 一下\n",
    "print(result)"
   ]
  },
  {
   "cell_type": "markdown",
   "metadata": {},
   "source": [
    "# Retrieval Train"
   ]
  },
  {
   "cell_type": "markdown",
   "metadata": {},
   "source": []
  }
 ],
 "metadata": {
  "kernelspec": {
   "display_name": "Python 3",
   "language": "python",
   "name": "python3"
  },
  "language_info": {
   "codemirror_mode": {
    "name": "ipython",
    "version": 3
   },
   "file_extension": ".py",
   "mimetype": "text/x-python",
   "name": "python",
   "nbconvert_exporter": "python",
   "pygments_lexer": "ipython3",
   "version": "3.10.12"
  }
 },
 "nbformat": 4,
 "nbformat_minor": 2
}
