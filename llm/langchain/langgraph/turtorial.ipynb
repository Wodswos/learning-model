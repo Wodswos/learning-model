{
 "cells": [
  {
   "cell_type": "code",
   "execution_count": 1,
   "metadata": {},
   "outputs": [],
   "source": [
    "import getpass\n",
    "import os\n",
    "\n",
    "# os.environ[\"OPENAI_API_KEY\"] = getpass.getpass()"
   ]
  },
  {
   "cell_type": "code",
   "execution_count": 2,
   "metadata": {},
   "outputs": [
    {
     "data": {
      "text/plain": [
       "CompiledStateGraph(nodes={'__start__': PregelNode(config={'tags': ['langsmith:hidden']}, channels=['__start__'], triggers=['__start__'], writers=[ChannelWrite<__root__>(recurse=True, writes=[ChannelWriteEntry(channel='__root__', value=<object object at 0x7ff954c5b570>, skip_none=True, mapper=None)]), ChannelWrite<start:oracle>(recurse=True, writes=[ChannelWriteEntry(channel='start:oracle', value='__start__', skip_none=False, mapper=None)])]), 'oracle': PregelNode(config={'tags': []}, channels=['__root__'], triggers=['start:oracle'], writers=[ChannelWrite<oracle,__root__>(recurse=True, writes=[ChannelWriteEntry(channel='oracle', value='oracle', skip_none=False, mapper=None), ChannelWriteEntry(channel='__root__', value=<object object at 0x7ff954c5b570>, skip_none=True, mapper=None)])])}, channels={'__root__': <langgraph.channels.binop.BinaryOperatorAggregate object at 0x7ff93f5a31c0>, '__start__': <langgraph.channels.ephemeral_value.EphemeralValue object at 0x7ff93f7f4af0>, 'oracle': <langgraph.channels.ephemeral_value.EphemeralValue object at 0x7ff93f5a33a0>, 'start:oracle': <langgraph.channels.ephemeral_value.EphemeralValue object at 0x7ff93f5a3160>}, auto_validate=False, stream_mode='updates', output_channels='__root__', stream_channels='__root__', input_channels='__start__', builder=<langgraph.graph.message.MessageGraph object at 0x7ff93fa97dc0>)"
      ]
     },
     "execution_count": 2,
     "metadata": {},
     "output_type": "execute_result"
    }
   ],
   "source": [
    "from langchain_openai import ChatOpenAI\n",
    "from langchain_core.messages import HumanMessage\n",
    "from langgraph.graph import END, MessageGraph\n",
    "\n",
    "model = ChatOpenAI(temperature=0, base_url='https://api.deepseek.com', model='deepseek-chat')\n",
    "\n",
    "graph = MessageGraph()\n",
    "\n",
    "graph.add_node(\"oracle\", model)\n",
    "graph.add_edge(\"oracle\", END)\n",
    "\n",
    "graph.set_entry_point(\"oracle\")\n",
    "\n",
    "runnable = graph.compile()\n",
    "runnable"
   ]
  },
  {
   "cell_type": "code",
   "execution_count": 3,
   "metadata": {},
   "outputs": [
    {
     "data": {
      "text/plain": [
       "[HumanMessage(content='What is 1 + 1?', id='f2a6a7f2-b76a-4016-b9e7-84bd3b45d81f'),\n",
       " AIMessage(content=' 1 + 1 equals 2.', response_metadata={'token_usage': {'completion_tokens': 9, 'prompt_tokens': 15, 'total_tokens': 24}, 'model_name': 'deepseek-chat', 'system_fingerprint': None, 'finish_reason': 'stop', 'logprobs': None}, id='run-4cfe5c6e-97a5-427a-8dc3-6ab61fa94566-0')]"
      ]
     },
     "execution_count": 3,
     "metadata": {},
     "output_type": "execute_result"
    }
   ],
   "source": [
    "runnable.invoke(HumanMessage(\"What is 1 + 1?\"))"
   ]
  },
  {
   "cell_type": "code",
   "execution_count": null,
   "metadata": {},
   "outputs": [],
   "source": []
  },
  {
   "cell_type": "code",
   "execution_count": null,
   "metadata": {},
   "outputs": [],
   "source": []
  }
 ],
 "metadata": {
  "kernelspec": {
   "display_name": "Python 3",
   "language": "python",
   "name": "python3"
  },
  "language_info": {
   "codemirror_mode": {
    "name": "ipython",
    "version": 3
   },
   "file_extension": ".py",
   "mimetype": "text/x-python",
   "name": "python",
   "nbconvert_exporter": "python",
   "pygments_lexer": "ipython3",
   "version": "3.10.12"
  }
 },
 "nbformat": 4,
 "nbformat_minor": 2
}
