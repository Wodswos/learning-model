{
 "cells": [
  {
   "cell_type": "markdown",
   "metadata": {},
   "source": [
    "【当我开发出史料检索RAG应用，正史怪又该如何应对？-哔哩哔哩】 https://b23.tv/Eo93EXu"
   ]
  },
  {
   "cell_type": "code",
   "execution_count": null,
   "metadata": {},
   "outputs": [],
   "source": []
  }
 ],
 "metadata": {
  "kernelspec": {
   "display_name": "Python 3",
   "language": "python",
   "name": "python3"
  },
  "language_info": {
   "name": "python",
   "version": "3.10.12"
  }
 },
 "nbformat": 4,
 "nbformat_minor": 2
}
